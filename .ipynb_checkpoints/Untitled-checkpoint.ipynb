{
 "cells": [
  {
   "cell_type": "code",
   "execution_count": 4,
   "id": "01e27128",
   "metadata": {
    "ExecuteTime": {
     "end_time": "2021-04-06T16:41:50.567751Z",
     "start_time": "2021-04-06T16:41:50.551759Z"
    }
   },
   "outputs": [
    {
     "data": {
      "text/html": [
       "\n",
       "<style>\n",
       "div.container{width:100% !important;}\n",
       "div.CodeMirror{font-family:Consolas; font-size:10pt;}\n",
       "div.output{font-size:10pt;}\n",
       "div.input {font-family:Consolas; font-size:10pt; font-weight:bold;}\n",
       "div.prompt{min-width:70px;}\n"
      ],
      "text/plain": [
       "<IPython.core.display.HTML object>"
      ]
     },
     "metadata": {},
     "output_type": "display_data"
    }
   ],
   "source": [
    "from IPython.display import display, HTML\n",
    "display(HTML(\"\"\"\n",
    "<style>\n",
    "div.container{width:100% !important;}\n",
    "div.CodeMirror{font-family:Consolas; font-size:10pt;}\n",
    "div.output{font-size:10pt;}\n",
    "div.input {font-family:Consolas; font-size:10pt; font-weight:bold;}\n",
    "div.prompt{min-width:70px;}\n",
    "\"\"\"))"
   ]
  },
  {
   "cell_type": "code",
   "execution_count": 5,
   "id": "7b6710ce",
   "metadata": {
    "ExecuteTime": {
     "end_time": "2021-04-06T16:41:51.828078Z",
     "start_time": "2021-04-06T16:41:51.815088Z"
    }
   },
   "outputs": [],
   "source": [
    "import pandas as pd \n",
    "import numpy as np \n",
    "import tensorflow.keras.utils as utils  \n",
    "from tensorflow.keras.models import Sequential # 모델 생성 \n",
    "from tensorflow.keras.layers import Dense, Activation # layer\n",
    "import matplotlib.pyplot as plt"
   ]
  },
  {
   "cell_type": "code",
   "execution_count": 6,
   "id": "94f0b413",
   "metadata": {
    "ExecuteTime": {
     "end_time": "2021-04-06T16:42:01.204053Z",
     "start_time": "2021-04-06T16:41:56.152061Z"
    }
   },
   "outputs": [
    {
     "data": {
      "text/html": [
       "<div>\n",
       "<style scoped>\n",
       "    .dataframe tbody tr th:only-of-type {\n",
       "        vertical-align: middle;\n",
       "    }\n",
       "\n",
       "    .dataframe tbody tr th {\n",
       "        vertical-align: top;\n",
       "    }\n",
       "\n",
       "    .dataframe thead th {\n",
       "        text-align: right;\n",
       "    }\n",
       "</style>\n",
       "<table border=\"1\" class=\"dataframe\">\n",
       "  <thead>\n",
       "    <tr style=\"text-align: right;\">\n",
       "      <th></th>\n",
       "      <th>Rank</th>\n",
       "      <th>Musician</th>\n",
       "      <th>Song Title</th>\n",
       "      <th>Genre</th>\n",
       "    </tr>\n",
       "  </thead>\n",
       "  <tbody>\n",
       "    <tr>\n",
       "      <th>0</th>\n",
       "      <td>1</td>\n",
       "      <td>BTS</td>\n",
       "      <td>ON</td>\n",
       "      <td>Dance</td>\n",
       "    </tr>\n",
       "    <tr>\n",
       "      <th>1</th>\n",
       "      <td>2</td>\n",
       "      <td>BTS</td>\n",
       "      <td>작은 것들을 위한 시(Boy With Luv)(Feat. Halsey)</td>\n",
       "      <td>Dance</td>\n",
       "    </tr>\n",
       "    <tr>\n",
       "      <th>2</th>\n",
       "      <td>3</td>\n",
       "      <td>김건모</td>\n",
       "      <td>잘못된 만남</td>\n",
       "      <td>Dance</td>\n",
       "    </tr>\n",
       "    <tr>\n",
       "      <th>3</th>\n",
       "      <td>4</td>\n",
       "      <td>조관우</td>\n",
       "      <td>꽃밭에서</td>\n",
       "      <td>Ballad</td>\n",
       "    </tr>\n",
       "    <tr>\n",
       "      <th>4</th>\n",
       "      <td>5</td>\n",
       "      <td>BTS</td>\n",
       "      <td>IDOL</td>\n",
       "      <td>Dance</td>\n",
       "    </tr>\n",
       "  </tbody>\n",
       "</table>\n",
       "</div>"
      ],
      "text/plain": [
       "   Rank Musician                               Song Title   Genre\n",
       "0     1      BTS                                       ON   Dance\n",
       "1     2      BTS  작은 것들을 위한 시(Boy With Luv)(Feat. Halsey)   Dance\n",
       "2     3      김건모                                  잘못된 만남    Dance\n",
       "3     4      조관우                                    꽃밭에서   Ballad\n",
       "4     5      BTS                                     IDOL   Dance"
      ]
     },
     "execution_count": 6,
     "metadata": {},
     "output_type": "execute_result"
    }
   ],
   "source": [
    "song_genre = pd.read_excel('data/각 밀리언셀러 음반별 대표곡의 장르.xlsx')\n",
    "song_genre.head()"
   ]
  },
  {
   "cell_type": "code",
   "execution_count": null,
   "id": "57f0f920",
   "metadata": {},
   "outputs": [],
   "source": [
    "# 0. album_genre 데이터 만들기 \n",
    "# 1. 연도순 정렬 \n",
    "# 2. 데이터 프레임 분리 (2002년 이전 /2002년 이후)\n",
    "# 3. Genre 원 핫 인코딩 "
   ]
  },
  {
   "cell_type": "code",
   "execution_count": null,
   "id": "4d11e6b3",
   "metadata": {},
   "outputs": [],
   "source": []
  },
  {
   "cell_type": "code",
   "execution_count": null,
   "id": "4ae774c3",
   "metadata": {},
   "outputs": [],
   "source": []
  },
  {
   "cell_type": "code",
   "execution_count": null,
   "id": "a1f80e20",
   "metadata": {},
   "outputs": [],
   "source": []
  },
  {
   "cell_type": "code",
   "execution_count": null,
   "id": "5687a1fd",
   "metadata": {},
   "outputs": [],
   "source": []
  },
  {
   "cell_type": "code",
   "execution_count": null,
   "id": "40ada10a",
   "metadata": {},
   "outputs": [],
   "source": []
  },
  {
   "cell_type": "code",
   "execution_count": null,
   "id": "ddb041a1",
   "metadata": {},
   "outputs": [],
   "source": []
  }
 ],
 "metadata": {
  "kernelspec": {
   "display_name": "Python 3",
   "language": "python",
   "name": "python3"
  },
  "language_info": {
   "codemirror_mode": {
    "name": "ipython",
    "version": 3
   },
   "file_extension": ".py",
   "mimetype": "text/x-python",
   "name": "python",
   "nbconvert_exporter": "python",
   "pygments_lexer": "ipython3",
   "version": "3.8.8"
  },
  "toc": {
   "base_numbering": 1,
   "nav_menu": {},
   "number_sections": true,
   "sideBar": true,
   "skip_h1_title": false,
   "title_cell": "Table of Contents",
   "title_sidebar": "Contents",
   "toc_cell": false,
   "toc_position": {},
   "toc_section_display": true,
   "toc_window_display": false
  },
  "varInspector": {
   "cols": {
    "lenName": 16,
    "lenType": 16,
    "lenVar": 40
   },
   "kernels_config": {
    "python": {
     "delete_cmd_postfix": "",
     "delete_cmd_prefix": "del ",
     "library": "var_list.py",
     "varRefreshCmd": "print(var_dic_list())"
    },
    "r": {
     "delete_cmd_postfix": ") ",
     "delete_cmd_prefix": "rm(",
     "library": "var_list.r",
     "varRefreshCmd": "cat(var_dic_list()) "
    }
   },
   "types_to_exclude": [
    "module",
    "function",
    "builtin_function_or_method",
    "instance",
    "_Feature"
   ],
   "window_display": false
  }
 },
 "nbformat": 4,
 "nbformat_minor": 5
}
